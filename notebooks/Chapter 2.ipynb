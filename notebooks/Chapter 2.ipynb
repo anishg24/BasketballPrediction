{
 "cells": [
  {
   "cell_type": "markdown",
   "metadata": {
    "collapsed": true,
    "pycharm": {
     "name": "#%% md\n"
    }
   },
   "source": [
    "# 2.1 Collecting and Cleaning Data"
   ]
  },
  {
   "cell_type": "code",
   "execution_count": 1,
   "metadata": {
    "pycharm": {
     "name": "#%%\n"
    }
   },
   "outputs": [],
   "source": [
    "import pandas as pd\n",
    "import numpy as np"
   ]
  },
  {
   "cell_type": "code",
   "execution_count": 59,
   "metadata": {
    "pycharm": {
     "name": "#%%\n"
    }
   },
   "outputs": [],
   "source": [
    "games = pd.read_csv(\"../data/Games.csv\", parse_dates=[0],\n",
    "                    names=[\"date\", \"home\", \"home_score\", \"away\", \"away_score\"]).dropna().reset_index(drop=True)\n",
    "teams = pd.read_csv(\"../data/Teams.csv\", names=[\"region\", \"college\"]).dropna().reset_index(drop=True)"
   ]
  },
  {
   "cell_type": "code",
   "execution_count": 60,
   "metadata": {
    "pycharm": {
     "name": "#%%\n"
    }
   },
   "outputs": [
    {
     "data": {
      "text/plain": "        date           home  home_score         away  away_score\n0 2015-11-13         Hawaii          87  Montana St.          76\n1 2015-11-13  Eastern Mich.          70      Vermont          50\n2 2015-11-13       Columbia         107         Kean          62\n3 2015-11-13     La.-Monroe          88      McMurry          43\n4 2015-11-13           Yale          70    Fairfield          57",
      "text/html": "<div>\n<style scoped>\n    .dataframe tbody tr th:only-of-type {\n        vertical-align: middle;\n    }\n\n    .dataframe tbody tr th {\n        vertical-align: top;\n    }\n\n    .dataframe thead th {\n        text-align: right;\n    }\n</style>\n<table border=\"1\" class=\"dataframe\">\n  <thead>\n    <tr style=\"text-align: right;\">\n      <th></th>\n      <th>date</th>\n      <th>home</th>\n      <th>home_score</th>\n      <th>away</th>\n      <th>away_score</th>\n    </tr>\n  </thead>\n  <tbody>\n    <tr>\n      <th>0</th>\n      <td>2015-11-13</td>\n      <td>Hawaii</td>\n      <td>87</td>\n      <td>Montana St.</td>\n      <td>76</td>\n    </tr>\n    <tr>\n      <th>1</th>\n      <td>2015-11-13</td>\n      <td>Eastern Mich.</td>\n      <td>70</td>\n      <td>Vermont</td>\n      <td>50</td>\n    </tr>\n    <tr>\n      <th>2</th>\n      <td>2015-11-13</td>\n      <td>Columbia</td>\n      <td>107</td>\n      <td>Kean</td>\n      <td>62</td>\n    </tr>\n    <tr>\n      <th>3</th>\n      <td>2015-11-13</td>\n      <td>La.-Monroe</td>\n      <td>88</td>\n      <td>McMurry</td>\n      <td>43</td>\n    </tr>\n    <tr>\n      <th>4</th>\n      <td>2015-11-13</td>\n      <td>Yale</td>\n      <td>70</td>\n      <td>Fairfield</td>\n      <td>57</td>\n    </tr>\n  </tbody>\n</table>\n</div>"
     },
     "execution_count": 60,
     "metadata": {},
     "output_type": "execute_result"
    }
   ],
   "source": [
    "games.head()"
   ]
  },
  {
   "cell_type": "code",
   "execution_count": 23,
   "metadata": {
    "pycharm": {
     "name": "#%%\n"
    }
   },
   "outputs": [
    {
     "data": {
      "text/html": [
       "<div>\n",
       "<style scoped>\n",
       "    .dataframe tbody tr th:only-of-type {\n",
       "        vertical-align: middle;\n",
       "    }\n",
       "\n",
       "    .dataframe tbody tr th {\n",
       "        vertical-align: top;\n",
       "    }\n",
       "\n",
       "    .dataframe thead th {\n",
       "        text-align: right;\n",
       "    }\n",
       "</style>\n",
       "<table border=\"1\" class=\"dataframe\">\n",
       "  <thead>\n",
       "    <tr style=\"text-align: right;\">\n",
       "      <th></th>\n",
       "      <th>region</th>\n",
       "      <th>college</th>\n",
       "    </tr>\n",
       "  </thead>\n",
       "  <tbody>\n",
       "    <tr>\n",
       "      <th>0</th>\n",
       "      <td>America East</td>\n",
       "      <td>Vermont</td>\n",
       "    </tr>\n",
       "    <tr>\n",
       "      <th>1</th>\n",
       "      <td>America East</td>\n",
       "      <td>Stony Brook</td>\n",
       "    </tr>\n",
       "    <tr>\n",
       "      <th>2</th>\n",
       "      <td>America East</td>\n",
       "      <td>UMBC</td>\n",
       "    </tr>\n",
       "    <tr>\n",
       "      <th>3</th>\n",
       "      <td>America East</td>\n",
       "      <td>Hartford</td>\n",
       "    </tr>\n",
       "    <tr>\n",
       "      <th>4</th>\n",
       "      <td>America East</td>\n",
       "      <td>Albany</td>\n",
       "    </tr>\n",
       "  </tbody>\n",
       "</table>\n",
       "</div>"
      ],
      "text/plain": [
       "         region      college\n",
       "0  America East      Vermont\n",
       "1  America East  Stony Brook\n",
       "2  America East         UMBC\n",
       "3  America East     Hartford\n",
       "4  America East       Albany"
      ]
     },
     "execution_count": 23,
     "metadata": {},
     "output_type": "execute_result"
    }
   ],
   "source": [
    "teams.head()"
   ]
  },
  {
   "cell_type": "code",
   "execution_count": 61,
   "metadata": {
    "pycharm": {
     "name": "#%%\n"
    }
   },
   "outputs": [
    {
     "name": "stdout",
     "output_type": "stream",
     "text": [
      "Corrected Names!\n"
     ]
    }
   ],
   "source": [
    "import html\n",
    "def fix_name(team, original):\n",
    "    team = html.unescape(team)\n",
    "    if original.strip() in team.strip() or team.strip() in original.strip():\n",
    "        return original\n",
    "    return team\n",
    "\n",
    "for region, college in teams.values:\n",
    "    games[\"home\"] = games[\"home\"].apply(lambda t: fix_name(t, college))\n",
    "    games[\"away\"] = games[\"away\"].apply(lambda t: fix_name(t, college))\n",
    "print(\"Corrected Names!\")\n"
   ]
  },
  {
   "cell_type": "markdown",
   "metadata": {},
   "source": [
    "## Columns to consider/add:\n",
    "1. Winner - Store winner's string? Or store 'home_winner' as True or False\n",
    "2."
   ]
  },
  {
   "cell_type": "code",
   "execution_count": 62,
   "outputs": [
    {
     "name": "stdout",
     "output_type": "stream",
     "text": [
      "Added winner's column!\n"
     ]
    }
   ],
   "source": [
    "for i in range(games.shape[0] - 1):\n",
    "    home_score = games.at[i, \"home_score\"]\n",
    "    away_score = games.at[i, \"away_score\"]\n",
    "    if home_score > away_score:\n",
    "        result = games.at[i, \"home\"]\n",
    "    elif home_score < away_score:\n",
    "        result = games.at[i, \"away\"]\n",
    "    else:\n",
    "        result = \"TIE\"\n",
    "    games.at[i, \"winner\"] = result\n",
    "print(\"Added winner's column!\")"
   ],
   "metadata": {
    "collapsed": false,
    "pycharm": {
     "name": "#%%\n"
    }
   }
  },
  {
   "cell_type": "code",
   "execution_count": 63,
   "outputs": [
    {
     "data": {
      "text/plain": "        date           home  home_score           away  away_score  \\\n0 2015-11-13         Hawaii          87  Montana State          76   \n1 2015-11-13  Eastern Mich.          70        Vermont          50   \n2 2015-11-13       Columbia         107           Kean          62   \n3 2015-11-13     La.-Monroe          88        McMurry          43   \n4 2015-11-13           Yale          70      Fairfield          57   \n\n          winner  \n0         Hawaii  \n1  Eastern Mich.  \n2       Columbia  \n3     La.-Monroe  \n4           Yale  ",
      "text/html": "<div>\n<style scoped>\n    .dataframe tbody tr th:only-of-type {\n        vertical-align: middle;\n    }\n\n    .dataframe tbody tr th {\n        vertical-align: top;\n    }\n\n    .dataframe thead th {\n        text-align: right;\n    }\n</style>\n<table border=\"1\" class=\"dataframe\">\n  <thead>\n    <tr style=\"text-align: right;\">\n      <th></th>\n      <th>date</th>\n      <th>home</th>\n      <th>home_score</th>\n      <th>away</th>\n      <th>away_score</th>\n      <th>winner</th>\n    </tr>\n  </thead>\n  <tbody>\n    <tr>\n      <th>0</th>\n      <td>2015-11-13</td>\n      <td>Hawaii</td>\n      <td>87</td>\n      <td>Montana State</td>\n      <td>76</td>\n      <td>Hawaii</td>\n    </tr>\n    <tr>\n      <th>1</th>\n      <td>2015-11-13</td>\n      <td>Eastern Mich.</td>\n      <td>70</td>\n      <td>Vermont</td>\n      <td>50</td>\n      <td>Eastern Mich.</td>\n    </tr>\n    <tr>\n      <th>2</th>\n      <td>2015-11-13</td>\n      <td>Columbia</td>\n      <td>107</td>\n      <td>Kean</td>\n      <td>62</td>\n      <td>Columbia</td>\n    </tr>\n    <tr>\n      <th>3</th>\n      <td>2015-11-13</td>\n      <td>La.-Monroe</td>\n      <td>88</td>\n      <td>McMurry</td>\n      <td>43</td>\n      <td>La.-Monroe</td>\n    </tr>\n    <tr>\n      <th>4</th>\n      <td>2015-11-13</td>\n      <td>Yale</td>\n      <td>70</td>\n      <td>Fairfield</td>\n      <td>57</td>\n      <td>Yale</td>\n    </tr>\n  </tbody>\n</table>\n</div>"
     },
     "execution_count": 63,
     "metadata": {},
     "output_type": "execute_result"
    }
   ],
   "source": [
    "games.to_csv(\"../data/Games-Calculated.csv\")\n",
    "games.head()"
   ],
   "metadata": {
    "collapsed": false,
    "pycharm": {
     "name": "#%%\n"
    }
   }
  }
 ],
 "metadata": {
  "kernelspec": {
   "display_name": "Python 3 (ipykernel)",
   "language": "python",
   "name": "python3"
  },
  "language_info": {
   "codemirror_mode": {
    "name": "ipython",
    "version": 3
   },
   "file_extension": ".py",
   "mimetype": "text/x-python",
   "name": "python",
   "nbconvert_exporter": "python",
   "pygments_lexer": "ipython3",
   "version": "3.9.5"
  }
 },
 "nbformat": 4,
 "nbformat_minor": 1
}